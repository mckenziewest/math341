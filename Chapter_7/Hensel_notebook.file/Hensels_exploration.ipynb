{
 "cells": [
  {
   "cell_type": "markdown",
   "id": "660a018c",
   "metadata": {},
   "source": [
    "<div style=\"margin-left:15%;\n",
    "            width:70%;\n",
    "            height:10px;\n",
    "            background: #edac1a;  \n",
    "\"></div>  \n",
    "<p style=\"\n",
    "           margin-top: 10px;\n",
    "           margin-bottom: 10px;\n",
    "             text-align: center;\n",
    "             font-family: sans-serif;\n",
    "             font-size: 3rem;\n",
    "             letter-spacing: 0.15rem;\n",
    "             text-transform: uppercase;\n",
    "             color: #2b3e85; \n",
    "          font-weight:bold;\n",
    "\"> \n",
    " Hensel's Lemma in Sage\n",
    "</h1>\n",
    "<div style=\"margin-left:15%;\n",
    "            width:70%;\n",
    "            height:10px;\n",
    "            background: #edac1a;  \n",
    "\"></div>"
   ]
  },
  {
   "cell_type": "markdown",
   "id": "382609ad",
   "metadata": {},
   "source": [
    "## Hensel's Lemma\n",
    "\n",
    "> **Hensel's Lemma:** Let $f(x)$ be a polynomial with integer coefficients, $p$ a prime, and $e\\geq 1$ an integer.\n",
    "> Suppose $f(r)\\equiv 0\\pmod {p^e}$ and $f'(r)\\neq 0\\pmod p$, then \n",
    ">\n",
    "> $$s=r+kp^{e}$$\n",
    ">\n",
    "> is a solution to the congruence $f(x)\\equiv 0\\pmod{p^{e+1}}$, where $k\\in\\mathbb{Z}$ satisfies \n",
    ">\n",
    "> $$\\frac{f(r)}{p^e}+kf'(r)\\equiv 0\\pmod p.$$"
   ]
  },
  {
   "cell_type": "markdown",
   "id": "5e28c0c7",
   "metadata": {},
   "source": [
    "> 🎯 Complete the proof in the case that $\\deg(f)=3$.\n",
    "\n",
    "**Proof:** First, we prove that $k$ exists.  Note that $\\frac{f(r)}{p^e}\\in\\mathbb{Z}$ because ..................\n",
    "\n",
    "Further, since $\\gcd(p,f'(r))=0$ **why?**, we know that $f'(r)x\\equiv b\\pmod p$ has exactly 1 solution for all $b\\in\\mathbb{Z}$.  That is, $k$ exists, as does $s=r+kp^e$.\n",
    "\n",
    "\n",
    "Assume $\\deg(f)=3$. Then we can write $f(x)=a_0+a_1x+a_2x^2+a_3x^3$ for some $a_0,a_1,a_2,a_3\\in\\mathbb{Z}$. Before computations, we find $f'(r)=...........$.  Now compute\n",
    "\n",
    "$$\\begin{eqnarray*}\n",
    "f(r+kp^e) &=& a_0+a_1(r+kp^e)+a_2(r+kp^e)^2+a_3(r+kp^e)^3,\\\\\n",
    "&=& a_0+a_1(r+kp^e)+a_2(r^2+2rkp^e+k^2p^{2e})+a_3(r^3+3r^2kp^e+3rk^2p^{2e}+k^3p^{3e}),\\\\\n",
    "&\\equiv& a_0+a_1(r+kp^e)+a_2(r^2+2rkp^e)+a_3(r^3+3r^2kp^e)\\pmod{p^{e+1}},\\quad \\textit{why?}\\\\\n",
    "&=& ....................,\\\\\n",
    "&=& f(r)+ p^e f'(r),\\\\\n",
    "\\end{eqnarray*}$$\n",
    "\n",
    "Since ....................., we know that $f(r)+ p^e f'(r)\\equiv 0\\pmod{p^{e+1}}$. \n",
    "And so we conclude that $f(r+p^e)\\equiv 0\\pmod{p^{e+1}}$, as desired.\n",
    "<div style=\"text-align:right;\">🔲</div>"
   ]
  },
  {
   "cell_type": "markdown",
   "id": "4ce2d707",
   "metadata": {},
   "source": [
    "<div style=\"width:100%;  height:5px;  background: #2b3e85;\"></div>\n",
    "\n",
    "## Hensel's Lemma on polynomials"
   ]
  },
  {
   "cell_type": "markdown",
   "id": "29dbaa90",
   "metadata": {},
   "source": [
    "In class we worked through $3x\\equiv 2\\pmod{5^e}$ for $e=1,2,3$.  Here's one way I would do that in Sage:"
   ]
  },
  {
   "cell_type": "code",
   "execution_count": 1,
   "id": "39223204",
   "metadata": {},
   "outputs": [
    {
     "name": "stdout",
     "output_type": "stream",
     "text": [
      "r = 4\n"
     ]
    }
   ],
   "source": [
    "# First roots mod 5:\n",
    "_.<x> = PolynomialRing(Integers())\n",
    "f = 3*x-2\n",
    "f_prime = f.derivative()\n",
    "\n",
    "r = next(r for r in range(5) if f(r)%5==0)\n",
    "print(\"r =\",r) # This has only 1 root so we can use the first\n",
    "\n",
    "assert f(r)%5 == 0"
   ]
  },
  {
   "cell_type": "code",
   "execution_count": 2,
   "id": "51ff06e5",
   "metadata": {},
   "outputs": [
    {
     "name": "stdout",
     "output_type": "stream",
     "text": [
      "k = 1\n",
      "s = 9\n"
     ]
    }
   ],
   "source": [
    "# Now we go from 5 to 25:\n",
    "r = 4 # Taken from above\n",
    "assert f_prime(r)%5 != 0\n",
    "\n",
    "k = next(k for k in range(5) if (f(r)/5+f_prime(r)*k)%5==0)\n",
    "print(\"k =\",k)\n",
    "\n",
    "s = r + 5*k\n",
    "\n",
    "print(\"s =\",s)\n",
    "assert f(s)%25 == 0"
   ]
  },
  {
   "cell_type": "code",
   "execution_count": 3,
   "id": "01688efe",
   "metadata": {},
   "outputs": [
    {
     "name": "stdout",
     "output_type": "stream",
     "text": [
      "k = 3\n",
      "s = 84\n"
     ]
    }
   ],
   "source": [
    "# Now we go from 25 to 125:\n",
    "r = 9 # Taken from above\n",
    "assert f_prime()(r)%5 != 0\n",
    "\n",
    "k = next(k for k in range(5) if (f(r)/25+f_prime(r)*k)%5==0)\n",
    "print(\"k =\",k)\n",
    "\n",
    "s = r + 25*k\n",
    "\n",
    "print(\"s =\",s)\n",
    "assert f(s)%125 == 0"
   ]
  },
  {
   "cell_type": "code",
   "execution_count": 4,
   "id": "4f80ab1f",
   "metadata": {},
   "outputs": [
    {
     "name": "stdout",
     "output_type": "stream",
     "text": [
      "k = 1\n",
      "s = 209\n"
     ]
    }
   ],
   "source": [
    "# Now we go from 125 to 625:\n",
    "r = 84 # Taken from above\n",
    "assert f_prime()(r)%5 != 0\n",
    "\n",
    "k = next(k for k in range(5) if (f(r)/125+f_prime(r)*k)%5==0)\n",
    "print(\"k =\",k)\n",
    "s = r + 125*k\n",
    "\n",
    "print(\"s =\",s)\n",
    "assert f(s)%625 == 0"
   ]
  },
  {
   "cell_type": "markdown",
   "id": "4e38771d",
   "metadata": {},
   "source": [
    "<div style=\"width:100%;  height:5px;  background: #2b3e85;\"></div>\n",
    "\n",
    "## Now you do it\n",
    "\n",
    "> 🎯 Use Sage and Hensel's Lemma to find solutions to $3x^2-5\\equiv 0 \\pmod {17^e}$ for $e=1,2,3,4$."
   ]
  },
  {
   "cell_type": "code",
   "execution_count": null,
   "id": "19dbde42",
   "metadata": {},
   "outputs": [],
   "source": []
  },
  {
   "cell_type": "code",
   "execution_count": null,
   "id": "f59e9362",
   "metadata": {},
   "outputs": [],
   "source": []
  },
  {
   "cell_type": "code",
   "execution_count": null,
   "id": "b4bbbbc2",
   "metadata": {},
   "outputs": [],
   "source": []
  },
  {
   "cell_type": "code",
   "execution_count": null,
   "id": "acba92c7",
   "metadata": {},
   "outputs": [],
   "source": []
  },
  {
   "cell_type": "markdown",
   "id": "01e155a3",
   "metadata": {},
   "source": [
    "<div style=\"width:100%;  height:5px;  background: #2b3e85;\"></div>\n",
    "\n",
    "## Now you do it, again\n",
    "\n",
    "> 🎯 Use Sage and Hensel's Lemma to find solutions to $17x^4-32x^3+5x^2-2x+23 \\equiv 0 \\pmod {11^e}$ for $e=1,2,3,4$."
   ]
  },
  {
   "cell_type": "code",
   "execution_count": null,
   "id": "c93ac37e",
   "metadata": {},
   "outputs": [],
   "source": []
  },
  {
   "cell_type": "code",
   "execution_count": null,
   "id": "564da97c",
   "metadata": {},
   "outputs": [],
   "source": []
  },
  {
   "cell_type": "code",
   "execution_count": null,
   "id": "6faf5ea9",
   "metadata": {},
   "outputs": [],
   "source": []
  },
  {
   "cell_type": "code",
   "execution_count": null,
   "id": "3818ce4f",
   "metadata": {},
   "outputs": [],
   "source": []
  },
  {
   "cell_type": "markdown",
   "id": "cd3ee6fe",
   "metadata": {},
   "source": [
    "<div style=\"width:100%;  height:5px;  background: #2b3e85;\"></div>\n",
    "\n",
    "## Getting funky 🦨\n",
    "\n",
    "> 🎯 First, explain why Hensel's Lemma does not apply to $f(x)=x^5-1$ for $p=5$ and any $e$."
   ]
  },
  {
   "cell_type": "markdown",
   "id": "7caa0b17",
   "metadata": {},
   "source": [
    "**Answer:**"
   ]
  },
  {
   "cell_type": "markdown",
   "id": "3d38c467",
   "metadata": {},
   "source": [
    "> 🎯 Find an $r\\in\\mathbb{Z}$ that is a root of $f(x)=x^5-1$, and use it to explain why $f(x)\\equiv 0\\pmod {5^e}$ has a solution for all $e$. "
   ]
  },
  {
   "cell_type": "markdown",
   "id": "5160912c",
   "metadata": {},
   "source": [
    "**Answer:**"
   ]
  },
  {
   "cell_type": "markdown",
   "id": "a3c3a31b",
   "metadata": {},
   "source": [
    "<div style=\"width:100%;  height:5px;  background: #2b3e85;\"></div>\n",
    "\n",
    "## A different funk 🎺\n",
    "\n",
    "> 🎯 Explain why Hensel's Lemma does not apply to $f(x)=x^2+2x+1$ for $p=3$ and $e=1$."
   ]
  },
  {
   "cell_type": "markdown",
   "id": "737590ea",
   "metadata": {},
   "source": [
    "**Answer:**"
   ]
  },
  {
   "cell_type": "markdown",
   "id": "de4bf2f6",
   "metadata": {},
   "source": [
    "> 🎯 Explain why Hensel's Lemma *does* apply to $f(x)=x^2+2x+1$ for $p=3$ and $e=2$ using $r=2$, and use Hensel's Lemma to solve $f(x)\\equiv 0\\pmod{p^{e+1}}$ given $f(2)\\equiv 0\\pmod{p^e}$."
   ]
  },
  {
   "cell_type": "markdown",
   "id": "dc61cb51",
   "metadata": {},
   "source": [
    "**Answer:**"
   ]
  },
  {
   "cell_type": "code",
   "execution_count": null,
   "id": "9bf36182",
   "metadata": {},
   "outputs": [],
   "source": []
  },
  {
   "cell_type": "markdown",
   "id": "0fefa7b8",
   "metadata": {},
   "source": [
    "> 🎯 Explain why Hensel's Lemma *does NOT* apply to $f(x)=x^2+2x+1$ for $p=3$ and $e=2$ using $r=8$. Why is this OK?"
   ]
  },
  {
   "cell_type": "markdown",
   "id": "dc1a04d8",
   "metadata": {},
   "source": [
    "**Answer:**"
   ]
  },
  {
   "cell_type": "markdown",
   "id": "08db8aa3",
   "metadata": {},
   "source": [
    "<div style=\"width:100%;  height:5px;  background: #2b3e85;\"></div>\n",
    "\n",
    "## $p$-adic integers\n",
    "\n",
    "Notice one important thing, $s \\equiv r\\pmod{p^e}$.\n",
    "\n",
    "In particular our sequence of solutions $(4,9,84,209)$ are congruenct mod 5, the sequence $(9,84,209)$ are congruent mod 25, and finally $84\\equiv 209\\pmod{125}$.\n",
    "\n",
    "This sequence continues forever, $(4,9,84,209,\\dots)$, and actually there's a name for sequences like these, $p$-adic integers.  There are many ways to represent these, by default, Sage represents them as sums\n",
    "\n",
    "$$a_0+a_1\\cdot p+a_2\\cdot p^2+a_3\\cdot p^3+\\cdots,$$\n",
    "\n",
    "where the $a_i$ values are actually the $k$ values that we've been finding.\n",
    "\n",
    "In our example $(4,9,84,209,\\dots)$ would be represented as \n",
    "\n",
    "$$4+1\\cdot5+3\\cdot5^2+1\\cdot5^3+\\cdots.$$\n",
    "\n",
    "If we call this number $r$, then \n",
    "\n",
    "$$\\begin{eqnarray*}\n",
    "r&\\equiv& 4\\pmod 5\\\\\n",
    "r&\\equiv&  9\\pmod{25}\\\\\n",
    "r&\\equiv&  84\\pmod{125}\\\\\n",
    "r&\\equiv&  209\\pmod{625}\n",
    "\\end{eqnarray*}$$\n",
    "\n",
    "Here's how we can construct $p$-adic integers and find roots mod $p^e$."
   ]
  },
  {
   "cell_type": "code",
   "execution_count": null,
   "id": "7943618c",
   "metadata": {},
   "outputs": [],
   "source": [
    "R = Zp(5)                         # Define p-adics (choosing p)\n",
    "_.<x> = PolynomialRing(R)         # Set up x as a polynomial variable\n",
    "f = 3*x-2                         # Define the actual polynomial\n",
    "r = f.roots(multiplicities=False)[0]  # Find the roots of the polynomial\n",
    "print(\"r =\",r)\n",
    " \n",
    "print(f\"\\n\\nSolutions mod 5^e for e from 1 to {r.precision_absolute()-1}\")\n",
    "print([mod(r,5^e) for e in range(1,r.precision_absolute())])"
   ]
  },
  {
   "cell_type": "markdown",
   "id": "cb41f2f2",
   "metadata": {},
   "source": [
    "> **Exercise:** 🎯 Last time we also used Hensel's Lemma to solve $x^2+1\\equiv 0$ modulo $13$, $13^2$ and $13^3$. Use the code in the previous block to extend this beyond these values, solving $x^2+1\\equiv 0\\pmod{13^e}$ for $e$ from 1 to 19."
   ]
  },
  {
   "cell_type": "code",
   "execution_count": null,
   "id": "eb5f62d4",
   "metadata": {},
   "outputs": [],
   "source": []
  },
  {
   "cell_type": "markdown",
   "id": "2403e9b0",
   "metadata": {},
   "source": [
    "> **Exercise:** 🎯 What does this code produce when we have an integer solution, for example, if $f=x^2-1$ with $p$ your favorite prime?"
   ]
  },
  {
   "cell_type": "code",
   "execution_count": null,
   "id": "11da8052",
   "metadata": {},
   "outputs": [],
   "source": []
  },
  {
   "cell_type": "markdown",
   "id": "7398a3e0",
   "metadata": {},
   "source": [
    "<div style=\"width:100%;  height:5px;  background: #2b3e85;\"></div>\n",
    "\n",
    "## 🍰 Optional - Me using Sage to do symbolic computations"
   ]
  },
  {
   "cell_type": "code",
   "execution_count": null,
   "id": "cca8128e",
   "metadata": {},
   "outputs": [],
   "source": [
    "# Choosing the prime, exponent, and degree of f\n",
    "\n",
    "p = 5\n",
    "e = 17\n",
    "degree = 4\n",
    "\n",
    "# Defining the coefficients of f as a[i] for 0<=i<=degree, they're considered mod p^(e+1)\n",
    "A = PolynomialRing(Integers(p^(e+1)),degree+1,names=\"a_\")\n",
    "a = A.gens()\n",
    "\n",
    "# Defining f as a polynomial with coefficients from A\n",
    "_.<x> = PolynomialRing(A)\n",
    "\n",
    "f = sum(a[i]*x^i for i in range(len(a)))\n",
    "\n",
    "# Defining r and k as variables. We could instead use r=_ and k=_ to define them as actual integers.\n",
    "_.<r,k> = PolynomialRing(A)\n",
    "\n",
    "# Comparing polynomials\n",
    "print(\"f(r+kp^e)=\")\n",
    "print(f(r+k*p^e))\n",
    "print(\"\\nf(r)=\")\n",
    "print(f(r))\n",
    "print(\"\\np^ekf'(r)=\")\n",
    "print(p^e*k*f.derivative()(r))\n",
    "print('\\nAre these equal?')\n",
    "print(f(r+k*p^e)==(f(r)+p^e*k*f.derivative()(r)))"
   ]
  },
  {
   "cell_type": "code",
   "execution_count": null,
   "id": "843fca1a",
   "metadata": {},
   "outputs": [],
   "source": [
    "# If we want to factor these coefficients we have to work backward \n",
    "# through several polynomial rings: (This gets nasty as I try to make it print nice.)\n",
    "factored_coefficients = [Integers()(n).factor() for c in f(r+k*p^e).coefficients() for n in c.coefficients()]\n",
    "f_as_string = \"\" \n",
    "monomials = [m for m  in f(r+k*p^e).monomials()]\n",
    "next_monomials = [m for c in f(r+k*p^e).coefficients() for m in c.monomials()]\n",
    "def stringify(c):\n",
    "    if str(c)==\"1\":\n",
    "        return \"\"\n",
    "    current = \"(\"\n",
    "    exp = lambda pair: str(pair[0]) if pair[1]==1 else f\"{pair[0]}^{pair[1]}\"\n",
    "    current += \")(\".join(exp(pair) for pair in c)\n",
    "    return current+\")\"\n",
    "for i in range(len(factored_coefficients)):\n",
    "    f_as_string += stringify(factored_coefficients[i])\n",
    "    f_as_string += str(next_monomials[i])\n",
    "    f_as_string += str(monomials[i])\n",
    "    f_as_string += \" + \"\n",
    "\n",
    "\n",
    "print(\"f(r+kp^e)=\")\n",
    "print(f_as_string.replace(\"*\",\"\").rstrip(\" +\"))"
   ]
  }
 ],
 "metadata": {
  "kernelspec": {
   "display_name": "SageMath 9.7 [conda env:sage]",
   "language": "sage",
   "name": "conda-env-sage-sagemath"
  },
  "language_info": {
   "codemirror_mode": {
    "name": "ipython",
    "version": 3
   },
   "file_extension": ".py",
   "mimetype": "text/x-python",
   "name": "python",
   "nbconvert_exporter": "python",
   "pygments_lexer": "ipython3",
   "version": "3.10.8"
  }
 },
 "nbformat": 4,
 "nbformat_minor": 5
}
