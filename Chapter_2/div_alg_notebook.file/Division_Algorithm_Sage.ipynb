{
 "cells": [
  {
   "cell_type": "markdown",
   "id": "27893103",
   "metadata": {},
   "source": [
    "# Division Algorithm in Sage and Python\n",
    "\n",
    "-----\n",
    "\n",
    "First, recall the Division Algorithm.\n",
    "\n",
    "**Division Algorithm** Let $a$ and $b$ be integers with $b\\neq 0$.  Then there exist integers $q$ and $r$ such that $0\\leq r<b$ and $a=qb+r$.\n",
    "\n",
    "We call $q$ the <span style=\"color:blue\">*quotient*</span> and $r$ the <span style=\"color:blue\">*remainder*</span>.\n",
    "\n",
    "-----\n",
    "## `divmod`\n",
    "\n",
    "Suppose we want to look at patterns of remainders so that we can find patterns and conjecture results.\n",
    "\n",
    "One wonderful tool available through Python itself is `divmod`.  If you type in `divmod(a,b)` it compute the quotient and remainder when dividing `a` by `b` and returns them as an ordered pair.\n",
    "\n",
    "Here is one example, followed by a verification. To run a cell, you can either press `shift+enter` while your cursor is in the cell, or the `▶️Run` button in the top bar of Jupyter."
   ]
  },
  {
   "cell_type": "code",
   "execution_count": null,
   "id": "71023eb5",
   "metadata": {},
   "outputs": [],
   "source": [
    "divmod(34562,213)"
   ]
  },
  {
   "cell_type": "code",
   "execution_count": null,
   "id": "018b6e44",
   "metadata": {},
   "outputs": [],
   "source": [
    "162*213 + 56"
   ]
  },
  {
   "cell_type": "markdown",
   "id": "b6f54c4e",
   "metadata": {},
   "source": [
    "## Squares Divided by 3 \n",
    "\n",
    "Now, one question we as number theorists might ask, what happens when we square a number that's 1 more than a multiple of 3? Specifically, what is its remainder of the square when we divide by 3?"
   ]
  },
  {
   "cell_type": "code",
   "execution_count": null,
   "id": "48ac94c4",
   "metadata": {},
   "outputs": [],
   "source": [
    "d = 3                          # Set the denominator\n",
    "r = 1                          # Set the remainder\n",
    "for q in range(1,2):           # Possible quotient values\n",
    "    n = d*q+r                  # The integer with this q and r when divided by d\n",
    "    print(n,divmod(n**2,d))    # Printing the quotient and remainder of n^2 \n",
    "                               # (in python ** is the power operation, in sage ^ also works)"
   ]
  },
  {
   "cell_type": "markdown",
   "id": "402a2a3e",
   "metadata": {},
   "source": [
    "🤔 Did we get enough data points for a pattern? Do we need more? \n",
    "\n",
    "🎯 Edit the code to get more data for when we square integers of the form $3n+1$.\n",
    "\n",
    "🎯 Create a new cell by pressing the following sequence of buttons:`esc`->`b`->`enter`.  (The hotkey `b` stands for \"below\", it produces a new cell below your current one.  Guess what `a` does.)\n",
    "\n",
    "🎯 Use this new cell to get data about integers of the form $3n+0$ and of the form $3n+2$."
   ]
  },
  {
   "cell_type": "markdown",
   "id": "061c3e39",
   "metadata": {},
   "source": [
    "## Sums of Squares and Divisibility by 4\n",
    "\n",
    "One great way to make use of remainders and the division algorithm is to look at more than just single values. For example, maybe we want to know about integers of the form $a^2+b^2$.  What happens when we divide by 4. \n",
    "\n",
    "At this point, I will introduce a very useful operator.  The `%` operator returns only the remainder.\n",
    "\n",
    "So if I want to know the remainder when I divide 743 by 4, I type `743 % 4`."
   ]
  },
  {
   "cell_type": "code",
   "execution_count": null,
   "id": "7794b0f3",
   "metadata": {},
   "outputs": [],
   "source": [
    "possible_remainders = set({})                   # Generate an empty set\n",
    "for a in range(2):                              # Possible a-values\n",
    "    for b in range(2):                          # Possible b-values\n",
    "        possible_remainders.add((a**2+b**2)%4)  # Put the remainders of (a^2+b^2)/4 into the set\n",
    "print(possible_remainders)                      # Print the set after the loop ends"
   ]
  },
  {
   "cell_type": "markdown",
   "id": "a3d5dc7e",
   "metadata": {},
   "source": [
    "🎯 Do some experimenting here and make a conjecture."
   ]
  },
  {
   "cell_type": "markdown",
   "id": "9cad116c",
   "metadata": {},
   "source": [
    "### Another Formatting Tip\n",
    "\n",
    "Print statements can get messy if you want to keep track of variables in data. One way to solve that is by more precise string construction using f-strings.\n",
    "\n",
    "In an f-string, things between curly braces, `{}`, will be considered code, and those outside it will not.  The way we indicate we're using an f-string is by slapping an `f` just before the string.  For example, to print out more of a table of information about remainders when dividing by 4, i might use:\n",
    "\n",
    "```\n",
    "f\"a={a}, b={b}, r={(a**2+b**2)%4}\"\n",
    "```\n",
    "\n",
    "Let's see how that looks."
   ]
  },
  {
   "cell_type": "code",
   "execution_count": null,
   "id": "c59f59d5",
   "metadata": {},
   "outputs": [],
   "source": [
    "for a in range(4):                                 # Possible a-values\n",
    "    for b in range(4):                             # Possible b-values\n",
    "        print(f\"a={a}, b={b}, r={(a**2+b**2)%4}\")  # Print a pretty string with a,b, and the remainder"
   ]
  },
  {
   "cell_type": "markdown",
   "id": "820b5949",
   "metadata": {},
   "source": [
    "## Sums of 3 Cubes\n",
    "\n",
    "In homework 1, I asked you to read an article about the sums of 3 cubes. I'm not going to ask you to try implementing any algorithm like the article described. However, I do want you to explore what is possible. \n",
    "\n",
    "🎯 Use code similar to the sums of squares question to see if there are patterns of remainders when dividing by 4 for sums of 3 cubes.\n"
   ]
  },
  {
   "cell_type": "code",
   "execution_count": null,
   "id": "cdc02042",
   "metadata": {},
   "outputs": [],
   "source": []
  },
  {
   "cell_type": "markdown",
   "id": "c4263ae8",
   "metadata": {},
   "source": [
    "🎯 So, maybe you've noticed that division by 4 remainders don't say much about sums of 3 cubes. Try some other denominators to see if you find any patterns."
   ]
  },
  {
   "cell_type": "code",
   "execution_count": null,
   "id": "32bd3fa7",
   "metadata": {},
   "outputs": [],
   "source": []
  },
  {
   "cell_type": "markdown",
   "id": "130cfb07",
   "metadata": {},
   "source": [
    "🎯 Create a markdown cell by first creating a new cell (`esc`->`b`...) but don't press enter. Instead, press `m` then `enter`.  Note that if you do press `enter` you can use `esc`->`m`->`enter` to turn an existing cell into markdown. The key `y` will return a cell to code.\n",
    "\n",
    "🎯 In this markdown cell, explain your findings about sums of 3 cubes. Note that you can use LaTeX formatting within `$ $` to typeset math inside the markdown!!  That is, to generate $a^3+b^3+c^3$, I can type `$a^3+b^3+c^3$`.\n"
   ]
  }
 ],
 "metadata": {
  "kernelspec": {
   "display_name": "Python 3",
   "language": "python",
   "name": "python3"
  },
  "language_info": {
   "codemirror_mode": {
    "name": "ipython",
    "version": 3
   },
   "file_extension": ".py",
   "mimetype": "text/x-python",
   "name": "python",
   "nbconvert_exporter": "python",
   "pygments_lexer": "ipython3",
   "version": "3.8.8"
  }
 },
 "nbformat": 4,
 "nbformat_minor": 5
}
