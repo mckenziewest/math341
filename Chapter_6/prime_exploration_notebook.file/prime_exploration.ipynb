{
 "cells": [
  {
   "cell_type": "markdown",
   "id": "660a018c",
   "metadata": {},
   "source": [
    "<div style=\"width:100%;\n",
    "  height:20px;\n",
    "  background: #edac1a;  \n",
    "\"></div>  \n",
    "<div style=\"width:100%;\n",
    "  height:20px;\n",
    "  border-right: 10px solid #edac1a;\n",
    "  border-left: 10px solid #edac1a;\n",
    "\"></div>\n",
    "<h1 style=\"  margin-top: 0px;\n",
    "  margin-bottom: 3px;\n",
    "  text-align: center;\n",
    "  font-family: sans-serif;\n",
    "  font-size: 3rem;\n",
    "  letter-spacing: 0.15rem;\n",
    "  text-transform: uppercase;\n",
    "  color: #2b3e85;\n",
    "  \"> \n",
    " Primes -- Introduction [and] Infinitude\n",
    "</h1>\n",
    "<div style=\"width:100%;\n",
    "  height:20px;\n",
    "  border-right: 10px solid #edac1a;\n",
    "  border-left: 10px solid #edac1a;\n",
    "\"></div>\n",
    "<div style=\"width:100%;\n",
    "  height:20px;\n",
    "  background: #edac1a; \n",
    "\"></div>"
   ]
  },
  {
   "cell_type": "markdown",
   "id": "382609ad",
   "metadata": {},
   "source": [
    "## Part 1: Introduction to Primes in Sage\n",
    "\n",
    "> **Definition:** A positive integer $n>1$ is *prime* if its only positive divisors are $1$ and $n$, otherwise we call $n$ *composite*.\n",
    "\n",
    "> **Remark:** Generally, $p$ and $q$ are used to represent prime numbers.\n",
    "\n",
    "**Examples** The first six primes are $2,3,5,7,11,$ and $13$."
   ]
  },
  {
   "cell_type": "markdown",
   "id": "5e28c0c7",
   "metadata": {},
   "source": [
    "🎯 Prove that the only even prime is $2$.\n",
    "\n",
    "**Proof:**"
   ]
  },
  {
   "cell_type": "markdown",
   "id": "7398a3e0",
   "metadata": {},
   "source": [
    "<div style=\"width:100%;  height:5px;  background: #2b3e85;\"></div>\n",
    "\n",
    "Sage can tell us if integers are prime, as well as find prime numbers for us:"
   ]
  },
  {
   "cell_type": "code",
   "execution_count": null,
   "id": "cca8128e",
   "metadata": {},
   "outputs": [],
   "source": [
    "print(is_prime(234144))   # Is 234,143 prime?"
   ]
  },
  {
   "cell_type": "code",
   "execution_count": null,
   "id": "843fca1a",
   "metadata": {},
   "outputs": [],
   "source": [
    "print(prime_range(100,120))  # What are the primes between 100 and 120? \n",
    "print(prime_range(5,11))     # What are the primes >=5 and <11?"
   ]
  },
  {
   "cell_type": "code",
   "execution_count": null,
   "id": "3fdf591b",
   "metadata": {},
   "outputs": [],
   "source": [
    "print(primes_first_n(10))    # What are the first 10 primes?"
   ]
  },
  {
   "cell_type": "markdown",
   "id": "8ad05a6a",
   "metadata": {},
   "source": [
    "🎯 Pick a random (odd) number greater than 100,000 and use Sage to determine if its prime."
   ]
  },
  {
   "cell_type": "code",
   "execution_count": null,
   "id": "45cbc423",
   "metadata": {},
   "outputs": [],
   "source": []
  },
  {
   "cell_type": "markdown",
   "id": "f4121879",
   "metadata": {},
   "source": [
    "🎯 Whether or not your number is prime, use Sage to find the largest prime number smaller than it and the smallest prime number larger than it."
   ]
  },
  {
   "cell_type": "code",
   "execution_count": null,
   "id": "dfc436cd",
   "metadata": {},
   "outputs": [],
   "source": []
  },
  {
   "cell_type": "markdown",
   "id": "fcf7920e",
   "metadata": {},
   "source": [
    "<div style=\"width:100%;  height:5px;  background: #2b3e85;\"></div>\n",
    " \n",
    "Sage can also factor integers into their prime factorization."
   ]
  },
  {
   "cell_type": "code",
   "execution_count": null,
   "id": "2361663a",
   "metadata": {},
   "outputs": [],
   "source": [
    "print(factor(234144))"
   ]
  },
  {
   "cell_type": "code",
   "execution_count": null,
   "id": "90dbfe11",
   "metadata": {},
   "outputs": [],
   "source": [
    "print(234144.factor())"
   ]
  },
  {
   "cell_type": "code",
   "execution_count": null,
   "id": "5f347a6c",
   "metadata": {},
   "outputs": [],
   "source": [
    "print(234144.prime_factors())"
   ]
  },
  {
   "cell_type": "markdown",
   "id": "550ac435",
   "metadata": {},
   "source": [
    "🎯 Find the prime divisors and factorization of your number greater than 100000."
   ]
  },
  {
   "cell_type": "code",
   "execution_count": null,
   "id": "1af1e73c",
   "metadata": {},
   "outputs": [],
   "source": []
  },
  {
   "cell_type": "markdown",
   "id": "49914b4f",
   "metadata": {},
   "source": [
    "<div style=\"width:100%;  height:5px;  background: #2b3e85;\"></div>\n",
    " \n",
    "By assigning our integer to a variable, we can explore more, using tab completion, around what Sage can do.\n",
    "\n",
    "🎯 Assign your number greater than 100000 to the variable `n`, then after typing `n.` in the cell press `tab` to explore the possible options.  \n",
    "\n",
    "*Note:* You can also try `n.pri` followed by `tab` to see what's available that might start with `prime`. You can also try tab completion on `pri` without the `n.` to see what else is available."
   ]
  },
  {
   "cell_type": "code",
   "execution_count": null,
   "id": "baf5b0a7",
   "metadata": {},
   "outputs": [],
   "source": []
  },
  {
   "cell_type": "markdown",
   "id": "eba0aca8",
   "metadata": {},
   "source": [
    "💡 *Tip:* If there's a function you want to learn more about, you can use a `?` as below to learn more."
   ]
  },
  {
   "cell_type": "code",
   "execution_count": null,
   "id": "dda41e8f",
   "metadata": {},
   "outputs": [],
   "source": [
    "234144.next_prime?"
   ]
  },
  {
   "cell_type": "markdown",
   "id": "1a5cb8f0",
   "metadata": {},
   "source": [
    "<div style=\"width:100%;  height:5px;  background: #2b3e85;\"></div>\n",
    "\n",
    "## Part 2 - Infinitely Many Primes\n",
    "\n",
    "> **Theorem:** There are infinitely many primes.\n",
    "\n",
    "🎯 Complete this proof by contradiction of this fact."
   ]
  },
  {
   "cell_type": "markdown",
   "id": "706230b7",
   "metadata": {},
   "source": [
    "**Proof:** Assume, toward contradiction, that there are finitely primes.  Call these $p_1,p_2,\\dots,p_r$.  Let $n=p_1p_2\\cdots p_r+1$.\n",
    "\n",
    "_Why do none of $p_1,p_2,\\dots,p_r$ divide $n$?_\n",
    "\n",
    "By the Fundamental Theorem of Arithmetic (we'll talk about this more next time) $n$ can be factored into prime factors, none of which are $p_1,p_2,\\dots,p_r$. Thus $p_1,p_2,\\dots,p_r$ is not a complete list of primes, a contradiction.\n",
    "<div style=\"text-align:right\">🔲</div>"
   ]
  },
  {
   "cell_type": "markdown",
   "id": "eb23cb8e",
   "metadata": {},
   "source": [
    "This might lead to a question:\n",
    "\n",
    "> **Question:** Can $n=p_1,\\cdots,p_r+1$ be prime, where $p_i$ represents the $i$-the prime.\n",
    "\n",
    "🎯 If $p^\\#$ is the product of all primes up to $p$ (including $p$) when is $p^{\\#}+1$ prime? Complete the table:\n",
    "\n",
    "$$\n",
    "\\begin{array}{|c|c|c|}\n",
    "\\hline\n",
    "p& p^\\#&\\text{is prime?}\\\\\\hline\n",
    "2&  2  &  yes \\\\\\hline\n",
    "3&  6  &  yes \\\\\\hline\n",
    "5&    &    \\\\\\hline\n",
    "7&    &   \\\\\\hline\n",
    "11&    &    \\\\\\hline\n",
    "13&    &    \\\\\\hline\n",
    "17&    &    \\\\\\hline\n",
    "\\end{array}\n",
    "$$"
   ]
  },
  {
   "cell_type": "code",
   "execution_count": null,
   "id": "3cc27012",
   "metadata": {},
   "outputs": [],
   "source": []
  },
  {
   "cell_type": "markdown",
   "id": "ddbae137",
   "metadata": {},
   "source": [
    "Known primes $p$ for which $p^\\#+1$ is prime:\n",
    "$$\\begin{array}{rrrrr}\n",
    "2, &3,& 5,& 7,& 11,\\\\\n",
    "31,& 379,& 1019,& 1021,& 2657,\\\\\n",
    "3229,& 4547,& 4787,& 11549,& 13649,\\\\\n",
    "18523,& 23801,& 24029,& 42209,& 145823,\\\\\n",
    "366439,& 392113\n",
    "\\end{array} $$"
   ]
  },
  {
   "cell_type": "markdown",
   "id": "d1e883d9",
   "metadata": {},
   "source": [
    "<div style=\"width:100%;  height:5px;  background: #2b3e85;\"></div>\n",
    "\n",
    "## Part 3 - Finding Some Primes\n",
    "\n",
    "> **Theorem (Chebyshev, 1852):** For all $n\\geq 2$, there is at least one prime between $n$ and $2n$.\n",
    "\n",
    "For $n=12324559494$ find a prime between $n$ and $2n$."
   ]
  },
  {
   "cell_type": "code",
   "execution_count": null,
   "id": "888b3f16",
   "metadata": {},
   "outputs": [],
   "source": []
  },
  {
   "cell_type": "markdown",
   "id": "7288821d",
   "metadata": {},
   "source": [
    "<div style=\"width:100%;  height:5px;  background: #2b3e85;\"></div>\n",
    "\n",
    "## Part 4 - Primes and Polynomials \n",
    "\n",
    "Here's something cool, consider the function $f(x)=2x^2+29$. \n",
    "\n",
    "It turns out for integers $0\\leq n<28$, $f(n)$ is prime. However $f(29)$ is not prime.\n",
    "\n",
    "🎯 Add some code to the loop below to verify this claim."
   ]
  },
  {
   "cell_type": "code",
   "execution_count": null,
   "id": "16c3a17b",
   "metadata": {},
   "outputs": [],
   "source": [
    "for n in range(30):\n",
    "    pass # Replace this line with something that verifies 2n^2+29 is prime"
   ]
  },
  {
   "cell_type": "markdown",
   "id": "c503a7f8",
   "metadata": {},
   "source": [
    "🎯 For some $k\\in\\mathbb{Z}$ and $n=29k$, compute the factorization of $2n^2+29$, what do you notice? can you prove it?"
   ]
  },
  {
   "cell_type": "code",
   "execution_count": null,
   "id": "ac18baf2",
   "metadata": {},
   "outputs": [],
   "source": []
  },
  {
   "cell_type": "markdown",
   "id": "725e5df4",
   "metadata": {},
   "source": [
    "🎯 For some $k\\in\\mathbb{Z}$, compute the factorization of $n= 10 + f(10)k$, find the factorization of $f(n)$. What do you notice? Can you prove it?"
   ]
  },
  {
   "cell_type": "code",
   "execution_count": null,
   "id": "f1f16023",
   "metadata": {},
   "outputs": [],
   "source": []
  },
  {
   "cell_type": "markdown",
   "id": "44359abb",
   "metadata": {},
   "source": [
    "In fact, the idea of finding functions that represent primes is intriguing.\n",
    "\n",
    "We can use a combination of number theory and Calculus to prove the theorem here.\n",
    "\n",
    "> **Theorem:** No non-constant polynomial exists such that $f(n)$ is prime for all integers $n$.\n",
    "\n",
    "**Proof:** Suppose, toward contradiction, that $f=a_nx^n+\\cdots+a_1x+a_0$ is a polynomial for which $f(n)$ is prime for all $n\\in\\mathbb{Z}$. Notice that $f(0)=a_0$ is prime by our assumption that $f(n)$ is prime for all $n\\in\\mathbb{Z}$. Now $f(a_0)$ must also be prime.  Additionally, we can compute $f(a_0)$ modulo $a_0$,\n",
    "\n",
    "$$f(a_0)= a_n(a_0)^n+\\cdots +a_1a_0+a_0\\equiv 0\\pmod{a_0}.$$\n",
    "\n",
    "Thus $f(a_0)$ is prime and divisible by $a_0$, so $f(a_0)=a_0$. Similarly, $f(a_0k)=a_0$ for all $k\\in\\mathbb{Z}$ by a similar argument. Well now $f$ is a degree $n$ polynomial with infinitely many integer solutions to the equation $f(x)=a_0$. This is impossible as we know from Calculus, polynomials satisfy \n",
    "\n",
    "$$\\lim_{x\\to\\infty}|f(x)|=\\infty\\quad\\text{and}\\quad\\lim_{x\\to-\\infty}|f(x)|=\\infty.$$\n",
    "\n",
    "That is, there is some $M$ such that if $x>M$ or $x<M$, then $|f(x)|>a_0$, contradicting our fact that we found $f(ka_0)=a_0$ for all $n$.\n",
    "<p style=\"text-align:right\">🔲</p>"
   ]
  },
  {
   "cell_type": "markdown",
   "id": "027f9ce7",
   "metadata": {},
   "source": [
    "💡 I want to point out something here, notice the $f(a_0)\\equiv 0\\pmod{a_0}$.  This is always true, whether or not $a_0$ is a prime.  Moreover, the following holds:\n",
    "\n",
    "> **Theorem:** If $f$ is a polynomial, $n$ an integer, and $m=f(n)$, then \n",
    "> \n",
    "> $$f(n+mk)\\equiv 0\\pmod m$$\n",
    ">\n",
    "> for all $k\\in\\mathbb{Z}$.\n",
    "\n",
    "🎯 Explore this theorem for $f(x)=5x^3+7x-1$ and $n=15$. What is $m$ and what does $f(n+mk)\\equiv 0\\pmod m$ tell us?"
   ]
  },
  {
   "cell_type": "code",
   "execution_count": null,
   "id": "1c0111bb",
   "metadata": {},
   "outputs": [],
   "source": []
  },
  {
   "cell_type": "markdown",
   "id": "2397cfe6",
   "metadata": {},
   "source": [
    "🎯 Pop open this [math world article](https://mathworld.wolfram.com/Prime-GeneratingPolynomial.html) to learn more about polynomials like this."
   ]
  },
  {
   "cell_type": "markdown",
   "id": "91436689",
   "metadata": {},
   "source": [
    "<div style=\"width:100%;  height:5px;  background: #2b3e85;\"></div>\n",
    "\n",
    "## Part 5 - Evenly Spaced Primes\n",
    "\n",
    "> **Theorem (3.8 in Burton)** Let $p$ be a prime, $d>0$ an integer and $n>2$.  If\n",
    ">\n",
    "> $$p,p+d,p+2d,\\dots,p+(n-1)d$$\n",
    ">\n",
    "> are all prime numbers then $d$ is divisible by all primes $q<n$.\n",
    "\n",
    "🎯 Verify this result for the progression of primes: (what are $p$, $d$, $n$?)\n",
    "\n",
    "(a) 47, 53, 59"
   ]
  },
  {
   "cell_type": "code",
   "execution_count": null,
   "id": "f40bc61c",
   "metadata": {},
   "outputs": [],
   "source": [
    "p = None\n",
    "d = None\n",
    "n = None\n",
    "\n",
    "\n",
    "# Check that d is divisible by all primes less than n\n",
    "for q in prime_range( 0 ): #Oh this seems like a good use of prime_range\n",
    "    pass # Change this"
   ]
  },
  {
   "cell_type": "markdown",
   "id": "9d14f196",
   "metadata": {},
   "source": [
    "(b) 251, 257, 263, 269"
   ]
  },
  {
   "cell_type": "code",
   "execution_count": null,
   "id": "d034c663",
   "metadata": {},
   "outputs": [],
   "source": [
    "p = \n",
    "d = \n",
    "n = "
   ]
  },
  {
   "cell_type": "markdown",
   "id": "333470fa",
   "metadata": {},
   "source": [
    "(c) 7, 157, 307, 457, 607, 757, 907, 1057, 1207, 1357"
   ]
  },
  {
   "cell_type": "code",
   "execution_count": null,
   "id": "66f08a39",
   "metadata": {},
   "outputs": [],
   "source": [
    "p = \n",
    "d = \n",
    "n = "
   ]
  },
  {
   "cell_type": "markdown",
   "id": "e1da46c4",
   "metadata": {},
   "source": [
    "(d) 110437, 124297, 138157, 152017, 165877, 179737, 193597, 207457, 221317, 235177, 262897"
   ]
  },
  {
   "cell_type": "code",
   "execution_count": null,
   "id": "28541288",
   "metadata": {},
   "outputs": [],
   "source": [
    "p = \n",
    "d = \n",
    "n = "
   ]
  },
  {
   "cell_type": "markdown",
   "id": "0276b8b8",
   "metadata": {},
   "source": [
    "💭 You might ask \"what's the biggest $n$ can be here?\"\n",
    "\n",
    "The answer was given by Green and Tao in 2004, to be that any $n$ will work.\n",
    "\n",
    "> **Theorem (Green--Tau, 2004):** For all $n>0$, there exists a prime $p$ and integer $d>0$ such that\n",
    ">\n",
    "> $$p,p+d,p+2d,\\dots,p+(n-1)d$$\n",
    ">\n",
    "> are all primes.\n",
    "\n",
    "If you want to learn more, check out [Wikipedia: Primes in Arithmetic Progression](https://en.wikipedia.org/wiki/Primes_in_arithmetic_progression)\n",
    "\n"
   ]
  },
  {
   "cell_type": "markdown",
   "id": "1e0000b7",
   "metadata": {},
   "source": [
    "<div style=\"width:100%;  height:5px;  background: #2b3e85;\"></div>\n",
    "\n",
    "\n",
    "## Part 5b - Consecutive Primes in Arithmetic Progression\n",
    "\n",
    "It is conjectured that there exist progressions of _consecutive_ primes of every (finite) length.  This would mean that if $p_r,p_{r+1},\\dots,p_{r+n-1}$ are the $r$-th, $r+1$-th, ..., and $r+n-1$-th primes, then all of \n",
    "\n",
    "$$p_{r+1}-p_r = p_{r+2}-p_{r+1}=\\cdots =p_{r+n-1}-p_{r+n-2}.$$\n",
    "\n",
    "When $n=3$, a sequence of consecutive evenly spaced primes is $3,5,7$.\n",
    "\n",
    "When $n=4$, a sequence of consecutive evenly spaced primes is $251, 257, 263, 269$\n",
    "\n",
    "The **longest known is 10**, published in a 2001 article titled _Ten consecutive primes in arithmetic progression_.  More information at https://oeis.org/A006560.\n",
    "\n",
    "🎯 There's a table on page 10. In this table it lists a prime $P_1$ for each $n=7,8,9,10$.  At the top of the table it states that the common difference is 210.  Verify that $P_1+210k$ is prime for all integers $0\\leq k<n$ in each $n=8,9,10$. I've done it here for $n=7$."
   ]
  },
  {
   "cell_type": "code",
   "execution_count": null,
   "id": "5dc7654a",
   "metadata": {
    "scrolled": true
   },
   "outputs": [],
   "source": [
    "n = 7\n",
    "P1 = 1215243836463242214053154407901852091\n",
    "for k in range(n):\n",
    "    print(k,is_prime(P1 + 210*k))\n",
    "print(\"and k=7??\")\n",
    "print(is_prime(P1 + 210*7))"
   ]
  },
  {
   "cell_type": "code",
   "execution_count": null,
   "id": "b250fe02",
   "metadata": {},
   "outputs": [],
   "source": [
    "is_prime(100996972469714247637786655587969840329509324689190041803603417758904341703348882159067229719)"
   ]
  },
  {
   "cell_type": "code",
   "execution_count": null,
   "id": "9b0fffff",
   "metadata": {},
   "outputs": [],
   "source": []
  }
 ],
 "metadata": {
  "kernelspec": {
   "display_name": "SageMath 9.7 [conda env:sage]",
   "language": "sage",
   "name": "conda-env-sage-sagemath"
  },
  "language_info": {
   "codemirror_mode": {
    "name": "ipython",
    "version": 3
   },
   "file_extension": ".py",
   "mimetype": "text/x-python",
   "name": "python",
   "nbconvert_exporter": "python",
   "pygments_lexer": "ipython3",
   "version": "3.10.8"
  }
 },
 "nbformat": 4,
 "nbformat_minor": 5
}
