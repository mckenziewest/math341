{
 "cells": [
  {
   "cell_type": "markdown",
   "id": "660a018c",
   "metadata": {},
   "source": [
    "<div style=\"margin-left:15%;\n",
    "            width:70%;\n",
    "            height:10px;\n",
    "            background: #edac1a;  \n",
    "\"></div>  \n",
    "<p style=\"\n",
    "           margin-top: 10px;\n",
    "           margin-bottom: 10px;\n",
    "             text-align: center;\n",
    "             font-family: sans-serif;\n",
    "             font-size: 3rem;\n",
    "             letter-spacing: 0.15rem;\n",
    "             text-transform: uppercase;\n",
    "             color: #2b3e85; \n",
    "          font-weight:bold;\n",
    "\"> \n",
    " Primitive Roots and Quadratic Residues\n",
    "</p>\n",
    "<div style=\"margin-left:15%;\n",
    "            width:70%;\n",
    "            height:10px;\n",
    "            background: #edac1a;  \n",
    "\"></div>"
   ]
  },
  {
   "cell_type": "markdown",
   "id": "382609ad",
   "metadata": {},
   "source": [
    "## Part 1: Some Final Exploration with Orders of Elements and Primitive Roots\n",
    "\n",
    "We begin by recalling some definitions and results.\n",
    "\n",
    "> **Definitions:** Let $n$ be a positive integer.\n",
    ">\n",
    ">  1. The *unit group* mod $n$ is the set $U_n=\\{[a]\\in\\mathbb{Z}_n | \\gcd(a,n)=1\\}$. \n",
    ">     We often write elements of $U_n$ using their representatives $1\\leq a\\leq n$.\n",
    ">  2. The *order* of an integer $a$ is the smallest positive integer $k$ such that $a^k\\equiv 1\\pmod n$. Denote this value by $\\mathrm{ord}_n(a)$.\n",
    ">  3. An element $a$ of $U_n$ is a *primitive root* if $\\mathrm{ord}_n(a)=|U_n|=\\varphi(n)$.\n",
    "\n",
    "Sage can easily compute unit groups, orders, and find primitive roots, if they exist."
   ]
  },
  {
   "cell_type": "markdown",
   "id": "78d3cf25",
   "metadata": {},
   "source": [
    "<div style=\"width:100%;  height:5px;  background: #2b3e85;\"></div>\n",
    "\n",
    "### Computing units and unit groups\n",
    "\n",
    "Below I have the code to produce the group $U_{10}$.  \n",
    "🎯 Adjust this code to compute the unit group $U_{25}$. What is $|U_{25}|$?"
   ]
  },
  {
   "cell_type": "code",
   "execution_count": null,
   "id": "83981539",
   "metadata": {},
   "outputs": [],
   "source": [
    "# Here we define the unit group in a few steps.\n",
    "n = 10\n",
    "Zn = Integers(n)         # The set of integers modulo n\n",
    "Un = Zn.unit_group()     # The units within the integers modulo n\n",
    "\n",
    "print(Un)                # "
   ]
  },
  {
   "cell_type": "markdown",
   "id": "de2a619e",
   "metadata": {},
   "source": [
    "Notice that the printed value of $U_n$ in Sage isn't entirely helpful for us as humans. It's a great way to programatically understand the object. We can though force the computer to print the elements as integers again as follows."
   ]
  },
  {
   "cell_type": "code",
   "execution_count": null,
   "id": "8278aa9d",
   "metadata": {},
   "outputs": [],
   "source": [
    "Un_vals = [Zn(a) for a in Un]\n",
    "print(Un_vals)"
   ]
  },
  {
   "cell_type": "markdown",
   "id": "d7f8ac01",
   "metadata": {},
   "source": [
    "🎯 For $n=2,..,10$ use Sage to compute $2U_n=\\{2a | a\\in U_n\\}$. \n",
    "\n",
    "🎯 What is the difference between $2U_n$ when $\\gcd(2,n)=1$ and $2U_n$ when $\\gcd(2,n)\\neq 1$?"
   ]
  },
  {
   "cell_type": "code",
   "execution_count": null,
   "id": "504b4930",
   "metadata": {},
   "outputs": [],
   "source": [
    " "
   ]
  },
  {
   "cell_type": "markdown",
   "id": "90deae9d",
   "metadata": {},
   "source": [
    "📌 Alternately, we can create the list ourselves using `is_unit` or `gcd` without calling upon the `unit_group` method. There are advantages to each method. The original, using `unit_group` retains the algebraic structure, which may be very beneficial."
   ]
  },
  {
   "cell_type": "code",
   "execution_count": null,
   "id": "60966925",
   "metadata": {},
   "outputs": [],
   "source": [
    "n = 10\n",
    "Un_is_unit = [a for a in Integers(10) if a.is_unit()]\n",
    "print(Un_is_unit)\n",
    "Un_gcd = [a for a in Integers(10) if gcd(a,n)==1]\n",
    "print(Un_gcd)"
   ]
  },
  {
   "cell_type": "markdown",
   "id": "c83dee07",
   "metadata": {},
   "source": [
    "📌 Recall that $|U_n|=\\varphi(n)$. These are easily computed as follows."
   ]
  },
  {
   "cell_type": "code",
   "execution_count": null,
   "id": "d323250f",
   "metadata": {},
   "outputs": [],
   "source": [
    "n = 10\n",
    "\n",
    "print(euler_phi(n))\n",
    "\n",
    "Zn = Integers(n)\n",
    "Un = Zn.unit_group()\n",
    "print(Un.order())"
   ]
  },
  {
   "cell_type": "markdown",
   "id": "d9876382",
   "metadata": {},
   "source": [
    "<div style=\"width:100%;  height:5px;  background: #2b3e85;\"></div>\n",
    "\n",
    "### Computing Orders"
   ]
  },
  {
   "cell_type": "markdown",
   "id": "90656d92",
   "metadata": {},
   "source": [
    "Computing order modulo $n$ is quite easy, and can also be done in a variety of ways. The key is first making sure the computer knows that we are to consider $a$ modulo $n$."
   ]
  },
  {
   "cell_type": "code",
   "execution_count": null,
   "id": "a9c61176",
   "metadata": {},
   "outputs": [],
   "source": [
    "a = 4\n",
    "n = 7\n",
    "print(mod(a,n).order())\n",
    "\n",
    "Zn = Integers(n)\n",
    "print(Zn(a).order())"
   ]
  },
  {
   "cell_type": "code",
   "execution_count": null,
   "id": "333fd7a6",
   "metadata": {},
   "outputs": [],
   "source": [
    "n = 7\n",
    "Zn = Integers(n)\n",
    "Un = Zn.unit_group()\n",
    "a2 = Un.random_element()\n",
    "\n",
    "print(a2.order())\n",
    "print(a2^(a2.order()))"
   ]
  },
  {
   "cell_type": "markdown",
   "id": "909218d7",
   "metadata": {},
   "source": [
    "🎯 Compute the order of every element in $U_{16}$. Note any observations, whether you expect them or not."
   ]
  },
  {
   "cell_type": "code",
   "execution_count": null,
   "id": "2251ef90",
   "metadata": {},
   "outputs": [],
   "source": []
  },
  {
   "cell_type": "markdown",
   "id": "af21c35c",
   "metadata": {},
   "source": [
    "<div style=\"width:100%;  height:5px;  background: #2b3e85;\"></div>\n",
    "\n",
    "### Computing Primitive Roots\n",
    "\n",
    "> **Definition:** A primitive root mod $n$ is an integer $a$ such that $\\mathrm{ord}_n(a)=\\varphi(n)$."
   ]
  },
  {
   "cell_type": "code",
   "execution_count": null,
   "id": "84714491",
   "metadata": {},
   "outputs": [],
   "source": [
    "# Test if a number is a primitive root\n",
    "mod(6,11).is_primitive_root()"
   ]
  },
  {
   "cell_type": "code",
   "execution_count": null,
   "id": "b4216777",
   "metadata": {},
   "outputs": [],
   "source": [
    "# Get _a_ primitive root. (🎯 What happens if you change the 11 to a 15?)\n",
    "primitive_root(11)"
   ]
  },
  {
   "cell_type": "markdown",
   "id": "9611cf70",
   "metadata": {},
   "source": [
    "🎯 We proved in class that 4 cannot be a primitive root . Can 8 be a primitive root for some $n>8$? Make a guess then make some computations."
   ]
  },
  {
   "cell_type": "code",
   "execution_count": null,
   "id": "3b8e5e1e",
   "metadata": {},
   "outputs": [],
   "source": []
  },
  {
   "cell_type": "markdown",
   "id": "6f2decba",
   "metadata": {},
   "source": [
    "🎯 *Spoiler* Find all $9\\leq n<100$ for which $8$ is a primitive root, compute $\\varphi(n)$ and the prime factorization of $\\varphi(n)$.\n",
    "\n",
    "> Potentially helpful functions to remind you of `euler_phi(n)` and `prime_factors(n)`."
   ]
  },
  {
   "cell_type": "code",
   "execution_count": null,
   "id": "f9360792",
   "metadata": {},
   "outputs": [],
   "source": []
  },
  {
   "cell_type": "markdown",
   "id": "e764d295",
   "metadata": {},
   "source": [
    "🎯 Consider the table produced by the code below, increase the number of rows it contains.\n",
    "\n",
    "🎯 Using the evidence from the table, complete the following theorem.\n",
    "\n",
    "🎯 Can you prove it?\n",
    "\n",
    "**Theorem:** For $n\\geq 9$, we have $8$ is a primitive root modulo $n$ if and only if ----------------."
   ]
  },
  {
   "cell_type": "code",
   "execution_count": null,
   "id": "c4a11324",
   "metadata": {},
   "outputs": [],
   "source": [
    "print(f\" n | 8 primitive? | 2 primitive? | phi(n) \")\n",
    "print(\"-\"*40)\n",
    "\n",
    "for n in range(9,13):\n",
    "    print(f\"{n:>2} | {mod(8,n).is_primitive_root():^12} | {mod(2,n).is_primitive_root():^12} | {factor(euler_phi(n))}\") \n",
    "    "
   ]
  },
  {
   "cell_type": "markdown",
   "id": "d370fb78",
   "metadata": {},
   "source": [
    "<div style=\"width:100%;  height:5px;  background: #2b3e85;\"></div>\n",
    "\n",
    "## Part 2: Quadratic Residues and the Legendre Symbol\n",
    "\n",
    "Recall the idea of the quadratic residue modulo $n$.\n",
    "\n",
    "> **Definition:** An integer $a$ is a *quadratic residue* modulo $n$ if $a\\equiv r^2\\pmod n$ for some integer $r$."
   ]
  },
  {
   "cell_type": "code",
   "execution_count": null,
   "id": "72786f5b",
   "metadata": {},
   "outputs": [],
   "source": [
    "quadratic_residues(17) # The full list of quadratic residues modulo 17"
   ]
  },
  {
   "cell_type": "code",
   "execution_count": null,
   "id": "4266848b",
   "metadata": {},
   "outputs": [],
   "source": [
    "least_quadratic_nonresidue(17) # The smallest positive a with a not a quadratic residue"
   ]
  },
  {
   "cell_type": "code",
   "execution_count": null,
   "id": "f40415e7",
   "metadata": {},
   "outputs": [],
   "source": [
    "mod(13,17).is_square() # Is 13 a square modulo 17?"
   ]
  },
  {
   "cell_type": "code",
   "execution_count": null,
   "id": "d8e182e3",
   "metadata": {},
   "outputs": [],
   "source": [
    "mod(3,17).is_square() # Is 3 a square modulo 17?"
   ]
  },
  {
   "cell_type": "markdown",
   "id": "7ab75f1b",
   "metadata": {},
   "source": [
    "🎯 Use Sage to explore then make a conjecture about the number of quadratic residues modulo $p$."
   ]
  },
  {
   "cell_type": "code",
   "execution_count": null,
   "id": "64cee3ab",
   "metadata": {},
   "outputs": [],
   "source": []
  },
  {
   "cell_type": "markdown",
   "id": "6107335a",
   "metadata": {},
   "source": [
    "<div style=\"width:100%;  height:5px;  background: #2b3e85;\"></div>\n",
    "\n",
    "### Products of Quadratic Residues and Non-Residues\n",
    "\n",
    "🎯 Verify the following theorem for $p=17$. \n",
    "\n",
    "> **Theorem:** If $a,b$ are quadratic residues modulo the prime $p$, then $ab$ is also a quadratic residue modulo $p$."
   ]
  },
  {
   "cell_type": "code",
   "execution_count": null,
   "id": "338d6059",
   "metadata": {},
   "outputs": [],
   "source": []
  },
  {
   "cell_type": "markdown",
   "id": "4b114128",
   "metadata": {},
   "source": [
    "🎯 Prove this Theorem using the definition of a quadratic residue."
   ]
  },
  {
   "cell_type": "markdown",
   "id": "ad67c990",
   "metadata": {},
   "source": [
    "**Proof:**"
   ]
  },
  {
   "cell_type": "markdown",
   "id": "d7998d66",
   "metadata": {},
   "source": [
    "📌 This proves that the set of quadratic residues is closed under multiplication.  More specifically, it show that if $p$ is prime, then the set of non-zero quadratic residues forms a \"group\" under the multiplication operation. Cool, huh?"
   ]
  },
  {
   "cell_type": "markdown",
   "id": "ea809d9a",
   "metadata": {},
   "source": [
    "🎯 What if $a$ is a quadratic residue modulo $17$ and $b$ is not? Is $ab$ guaranteed to either be a quadratic residue or not?"
   ]
  },
  {
   "cell_type": "code",
   "execution_count": null,
   "id": "ee29dd2a",
   "metadata": {},
   "outputs": [],
   "source": []
  },
  {
   "cell_type": "markdown",
   "id": "ff3eb430",
   "metadata": {},
   "source": [
    "🎯 What happens if both $a$ and $b$ are not quadratic residues modulo $17$? Is $ab$ guaranteed to either be a quadratic residue or not?"
   ]
  },
  {
   "cell_type": "code",
   "execution_count": null,
   "id": "d57a6a64",
   "metadata": {},
   "outputs": [],
   "source": []
  },
  {
   "cell_type": "markdown",
   "id": "3c9ba3c7",
   "metadata": {},
   "source": [
    "<div style=\"width:100%;  height:5px;  background: #2b3e85;\"></div>\n",
    "\n",
    "### Quadratic Residues and Primitive Roots\n",
    "\n",
    "🎯 Consider let $a$ be a primitive root modulo 17. For what exponents $j$ is $a^j$ a quadratic residue modulo 17?"
   ]
  },
  {
   "cell_type": "code",
   "execution_count": null,
   "id": "d503410f",
   "metadata": {},
   "outputs": [],
   "source": []
  },
  {
   "cell_type": "markdown",
   "id": "f4713698",
   "metadata": {},
   "source": [
    "🎯 Explore this question for other primes.  If $a$ is a quadratic residue modulo $p$, for what exponents $j$ is $a^j$ a quadratic residue?"
   ]
  },
  {
   "cell_type": "code",
   "execution_count": null,
   "id": "fbf83a2a",
   "metadata": {},
   "outputs": [],
   "source": []
  },
  {
   "cell_type": "markdown",
   "id": "b3fa46a7",
   "metadata": {},
   "source": [
    "🎯 Use your exploratory results to make a conjecture about what powers of a primitive root are quadratic residues."
   ]
  },
  {
   "cell_type": "code",
   "execution_count": null,
   "id": "ecc26c64",
   "metadata": {},
   "outputs": [],
   "source": []
  },
  {
   "cell_type": "markdown",
   "id": "bb56a581",
   "metadata": {},
   "source": [
    "<div style=\"width:100%;  height:5px;  background: #2b3e85;\"></div>\n",
    "\n",
    "### The Legendre Symbol\n",
    "\n",
    "> **Definition:** Given a prime $p$ and integer $a$, we define the *Legendre sybmol* by\n",
    "> $$\n",
    " \\left(\\frac{a}{p}\\right) = \n",
    " \\begin{cases}\n",
    " 0&\\text{if }p\\mid a\\\\\n",
    " 1&\\text{if }a\\text{ is a quadratic residue modulo }p\\text{ and }p\\nmid a\\\\\n",
    " -1&\\text{if }a\\text{ is not a quadratic residue modulo }p\n",
    " \\end{cases}$$"
   ]
  },
  {
   "cell_type": "code",
   "execution_count": null,
   "id": "58c6018f",
   "metadata": {},
   "outputs": [],
   "source": [
    "legendre_symbol(-2,11)"
   ]
  },
  {
   "cell_type": "markdown",
   "id": "66cef01e",
   "metadata": {},
   "source": [
    "🎯 What is $\\displaystyle\\left(\\frac{1}{p}\\right)$?"
   ]
  },
  {
   "cell_type": "code",
   "execution_count": null,
   "id": "20140316",
   "metadata": {},
   "outputs": [],
   "source": []
  },
  {
   "cell_type": "markdown",
   "id": "0b7db640",
   "metadata": {},
   "source": [
    "🎯 What is $\\displaystyle\\left(\\frac{-1}{p}\\right)$? Do some experimentation. Can you come up with any criteria?"
   ]
  },
  {
   "cell_type": "code",
   "execution_count": null,
   "id": "63011d94",
   "metadata": {},
   "outputs": [],
   "source": []
  },
  {
   "cell_type": "markdown",
   "id": "0a065c49",
   "metadata": {},
   "source": [
    "🎯 What is $\\displaystyle\\left(\\frac{2}{p}\\right)$? Do some experimentation can you come up with any criteria?"
   ]
  },
  {
   "cell_type": "code",
   "execution_count": null,
   "id": "6c4d6c3d",
   "metadata": {},
   "outputs": [],
   "source": []
  },
  {
   "cell_type": "markdown",
   "id": "69dcf29a",
   "metadata": {},
   "source": [
    "<div style=\"width:100%;  height:5px;  background: #2b3e85;\"></div>\n",
    "\n",
    "### Note for those who have taken abstract algebra"
   ]
  },
  {
   "cell_type": "markdown",
   "id": "cffecbbe",
   "metadata": {},
   "source": [
    "The map $\\alpha\\colon U_p\\to \\{1,-1\\}$ defined by $\\alpha(a)=\\displaystyle\\left(\\frac{a}{p}\\right)$ is in fact a group homomorphism with\n",
    "$$\\ker(\\alpha)=\\{\\text{non-zero quadratic residues}\\}.$$\n",
    "Therefore, the index of the set of non-zero quadratic residues in $U_p$ is 2.  This is why half of the units mod $p$ are quadratic residues!"
   ]
  },
  {
   "cell_type": "code",
   "execution_count": null,
   "id": "097c97b3",
   "metadata": {},
   "outputs": [],
   "source": []
  }
 ],
 "metadata": {
  "kernelspec": {
   "display_name": "SageMath 9.7 [conda env:sage]",
   "language": "sage",
   "name": "conda-env-sage-sagemath"
  },
  "language_info": {
   "codemirror_mode": {
    "name": "ipython",
    "version": 3
   },
   "file_extension": ".py",
   "mimetype": "text/x-python",
   "name": "python",
   "nbconvert_exporter": "python",
   "pygments_lexer": "ipython3",
   "version": "3.10.8"
  }
 },
 "nbformat": 4,
 "nbformat_minor": 5
}
