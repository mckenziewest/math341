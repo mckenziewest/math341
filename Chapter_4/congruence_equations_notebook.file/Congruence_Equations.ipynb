{
 "cells": [
  {
   "cell_type": "markdown",
   "id": "396df98f",
   "metadata": {},
   "source": [
    "<div style=\"width:100%;\n",
    "  height:20px;\n",
    "  background: #edac1a;  \n",
    "\"></div>  \n",
    "<div style=\"width:100%;\n",
    "  height:20px;\n",
    "  border-right: 10px solid #edac1a;\n",
    "  border-left: 10px solid #edac1a;\n",
    "\"></div>\n",
    "<h1 style=\"  margin-top: 0px;\n",
    "  margin-bottom: 3px;\n",
    "  text-align: center;\n",
    "  font-family: sans-serif;\n",
    "  font-size: 3rem;\n",
    "  letter-spacing: 0.15rem;\n",
    "  text-transform: uppercase;\n",
    "  color: #2b3e85;\n",
    "  \"> \n",
    " Congruence and Polynomials\n",
    "</h1>\n",
    "<div style=\"width:100%;\n",
    "  height:20px;\n",
    "  border-right: 10px solid #edac1a;\n",
    "  border-left: 10px solid #edac1a;\n",
    "\"></div>\n",
    "<div style=\"width:100%;\n",
    "  height:20px;\n",
    "  background: #edac1a; \n",
    "\"></div>"
   ]
  },
  {
   "cell_type": "markdown",
   "id": "9d3c24d5",
   "metadata": {},
   "source": [
    "We're going to look at a lot of the same questions that we saw before in a new way thanks to congruence. Really it's going to be much easier and you're going to say \"why haven't we been doing this the whole time?\"\n",
    "\n",
    "<div style=\"width:100%;  height:5px;  background: #2b3e85;\"></div>\n",
    "\n",
    "## First, sums of squares. \n",
    "\n",
    "**Goal:** Show that many integers cannot be written as the sum of two squares.\n",
    "\n",
    "One thing modular arithmetic will do is let us prove that numbers cannot be expressed in some way. \n",
    "\n",
    "Recall the defnition of a quadratic residue.\n",
    "\n",
    "> **Definition:** A *quadratic residue mod $n$* is any integer $q$ such that $q\\equiv a^2\\pmod n$ for some $a\\in\\mathbb{Z}$.\n",
    "\n",
    "> **Lemma** The integer $q$ is a quadratic residue mod $n$ if and only if the remainder $r$ when dividing $q$ by $n$ is also a quadratic residue mod $n$.\n",
    "\n",
    "🎯 Prove this Lemma."
   ]
  },
  {
   "cell_type": "markdown",
   "id": "f8b66bca",
   "metadata": {},
   "source": [
    "**Proof**\n",
    "\n",
    "\n",
    "<div style=\"text-align: right\">🔲</div>"
   ]
  },
  {
   "cell_type": "markdown",
   "id": "06206cd0",
   "metadata": {},
   "source": [
    "<div style=\"width:100%;  height:5px;  background: #2b3e85;\"></div>\n",
    "\n",
    "Because of this Lemma, we can restrict our question of quadratic residues to only values $0\\leq q<n$.  Moreover, to find all quadratic residues it's sufficient to compute $r^2$ for all $0\\leq r<n$.\n",
    "\n",
    "**Example:** The quadratic residues mod 3 are 0 and 1, according to the following calculation."
   ]
  },
  {
   "cell_type": "code",
   "execution_count": 4,
   "id": "10993677",
   "metadata": {},
   "outputs": [
    {
     "name": "stdout",
     "output_type": "stream",
     "text": [
      "0^2 = 0 (mod 3)\n",
      "1^2 = 1 (mod 3)\n",
      "2^2 = 1 (mod 3)\n"
     ]
    }
   ],
   "source": [
    "for r in range(3): \n",
    "    q = mod(r^2,3)\n",
    "    print(f\"{r}^2 = {q} (mod 3)\")"
   ]
  },
  {
   "cell_type": "markdown",
   "id": "710386af",
   "metadata": {},
   "source": [
    "🎯 **Exercise:** What are all of the quadratic residues mod 4,5,6?"
   ]
  },
  {
   "cell_type": "code",
   "execution_count": null,
   "id": "f957537e",
   "metadata": {},
   "outputs": [],
   "source": []
  },
  {
   "cell_type": "markdown",
   "id": "76055827",
   "metadata": {},
   "source": [
    "<div style=\"width:100%;  height:5px;  background: #2b3e85;\"></div>\n",
    "\n",
    "So now that we have quadratic residues under our belt, how about sums of them.\n",
    "\n",
    "🎯 **Exercise:** For $n=3,4,5,6$ what are the possible valuse for $x^2+y^2\\pmod n$?"
   ]
  },
  {
   "cell_type": "code",
   "execution_count": null,
   "id": "f740f186",
   "metadata": {},
   "outputs": [],
   "source": []
  },
  {
   "cell_type": "markdown",
   "id": "8dff025b",
   "metadata": {},
   "source": [
    "<div style=\"width:100%;  height:5px;  background: #2b3e85;\"></div>\n",
    "\n",
    "🎯 **Exercise:** Prove that if $z\\equiv 3\\pmod4$ then $z$ cannot be written as the sum of two squares."
   ]
  },
  {
   "cell_type": "markdown",
   "id": "c2e57137",
   "metadata": {},
   "source": [
    "**Proof:**\n",
    "\n",
    "\n",
    "<div style=\"text-align: right\">🔲</div>"
   ]
  },
  {
   "cell_type": "markdown",
   "id": "dc1f6168",
   "metadata": {},
   "source": [
    "<div style=\"width:100%;  height:5px;  background: #2b3e85;\"></div>\n",
    "\n",
    "\n",
    "🎯 **Exercise:** Is there a similar result for a different $n$ and $r$ that you can find?  \"Prove that if $z\\equiv r\\pmod n$ then $z$ cannot be written as the sum of two squares.\""
   ]
  },
  {
   "cell_type": "code",
   "execution_count": null,
   "id": "4cded28f",
   "metadata": {},
   "outputs": [],
   "source": []
  },
  {
   "cell_type": "markdown",
   "id": "90f6f13e",
   "metadata": {},
   "source": [
    "<div style=\"width:100%;\n",
    "  height:20px;\n",
    "  background: #edac1a;\"></div>\n",
    "  \n",
    "## Sums of Three Cubes\n"
   ]
  },
  {
   "cell_type": "markdown",
   "id": "a4da39bc",
   "metadata": {},
   "source": [
    "Similar to quadratic residues, we can have cubic residues.\n",
    "\n",
    "🎯 **Exercise:** What are the cubic residues mod $n=3,4,5,6$?"
   ]
  },
  {
   "cell_type": "code",
   "execution_count": null,
   "id": "8a5c366f",
   "metadata": {},
   "outputs": [],
   "source": []
  },
  {
   "cell_type": "markdown",
   "id": "d3f11d5f",
   "metadata": {},
   "source": [
    "🎯 **Exercise:** What sort of statements can you make about integers that can be written as the sum of two cubes?"
   ]
  },
  {
   "cell_type": "code",
   "execution_count": null,
   "id": "c8cc18f6",
   "metadata": {},
   "outputs": [],
   "source": []
  },
  {
   "cell_type": "markdown",
   "id": "3dedf932",
   "metadata": {},
   "source": [
    "🎯 **Exercise:** What sort of statements can you make about integers that cannot be written as the sum of three cubes? For this, I recommend using $n=9$."
   ]
  },
  {
   "cell_type": "code",
   "execution_count": null,
   "id": "6ca88be0",
   "metadata": {},
   "outputs": [],
   "source": []
  },
  {
   "cell_type": "markdown",
   "id": "8a0235de",
   "metadata": {},
   "source": [
    "<div style=\"width:100%;\n",
    "  height:20px;\n",
    "  background: #edac1a;\"></div>\n",
    "  \n",
    "## Solving Other Equations\n",
    "\n",
    "Ok those were interesting and gave us some ways to prove that the equation had no integer solutions.\n",
    "\n",
    "Sometimes we want to solve equation mod $n$ and are less concerned about whether or not there are solutions with integers.\n",
    "\n",
    "For example, maybe I want to solve $5x\\equiv 17\\pmod {32}$."
   ]
  },
  {
   "cell_type": "code",
   "execution_count": 5,
   "id": "5bcf048b",
   "metadata": {},
   "outputs": [
    {
     "name": "stdout",
     "output_type": "stream",
     "text": [
      "29\n"
     ]
    }
   ],
   "source": [
    "for x in range(32):\n",
    "    if mod(5*x,32) == 17:\n",
    "        print(x)"
   ]
  },
  {
   "cell_type": "markdown",
   "id": "044c6975",
   "metadata": {},
   "source": [
    "🎯 **Exercise:** For what values of $a$ with $0\\leq a<32$ does $5x=17\\pmod{32}$ have a solution?"
   ]
  },
  {
   "cell_type": "code",
   "execution_count": null,
   "id": "efa86e3c",
   "metadata": {},
   "outputs": [],
   "source": []
  },
  {
   "cell_type": "markdown",
   "id": "aab12ce6",
   "metadata": {},
   "source": [
    "> **Theorem** If $\\gcd(a,n)=1$, then $ax\\equiv 1\\pmod{n}$ has a solution.  \n",
    "\n",
    "> **Definition** If $0\\leq a<n$ and $\\gcd(a,n)=1$, then we call $a$ a *unit mod $n$*, and we call the solution to $ax\\equiv 1\\pmod n$ an *inverse of $a$ mod $n$*.\n",
    "\n",
    "🎯 **Exercise:** Prove the theorem using the fact that if $\\gcd(a,n)=1$ then there exist $x,y\\in\\mathbb{Z}$ such that $ax+ny=1$."
   ]
  },
  {
   "cell_type": "markdown",
   "id": "1d57ebfa",
   "metadata": {},
   "source": [
    "**Proof** "
   ]
  },
  {
   "cell_type": "markdown",
   "id": "f4e6999f",
   "metadata": {},
   "source": [
    "🎯 **Exercise** Find one possible $x,y\\in\\mathbb{Z}$ such that $5x+32y=1$ using our Diophantine equations strategy"
   ]
  },
  {
   "cell_type": "code",
   "execution_count": null,
   "id": "32f61cdf",
   "metadata": {},
   "outputs": [],
   "source": []
  },
  {
   "cell_type": "markdown",
   "id": "73256045",
   "metadata": {},
   "source": [
    "🎯 **Exercise** Use this value of $x$ to solve the equation $5x\\equiv 1\\pmod{32}$."
   ]
  },
  {
   "cell_type": "code",
   "execution_count": null,
   "id": "f176b4bf",
   "metadata": {},
   "outputs": [],
   "source": []
  },
  {
   "cell_type": "markdown",
   "id": "cf42aa63",
   "metadata": {},
   "source": [
    "🎯 **Exercise** Use this value of $x$ to solve the equation $5x\\equiv 17\\pmod{32}$."
   ]
  },
  {
   "cell_type": "code",
   "execution_count": null,
   "id": "3971c302",
   "metadata": {},
   "outputs": [],
   "source": []
  }
 ],
 "metadata": {
  "kernelspec": {
   "display_name": "SageMath 9.7 [conda env:sage]",
   "language": "sage",
   "name": "conda-env-sage-sagemath"
  },
  "language_info": {
   "codemirror_mode": {
    "name": "ipython",
    "version": 3
   },
   "file_extension": ".py",
   "mimetype": "text/x-python",
   "name": "python",
   "nbconvert_exporter": "python",
   "pygments_lexer": "ipython3",
   "version": "3.10.8"
  }
 },
 "nbformat": 4,
 "nbformat_minor": 5
}
